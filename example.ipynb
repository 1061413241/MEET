{
 "cells": [
  {
   "cell_type": "code",
   "execution_count": 1,
   "id": "08fe0c59",
   "metadata": {},
   "outputs": [],
   "source": [
    "import torch\n",
    "from meet.models.vit import meet_small_patch8 as create_model"
   ]
  },
  {
   "cell_type": "code",
   "execution_count": 3,
   "id": "652fb03e",
   "metadata": {},
   "outputs": [],
   "source": [
    "model = create_model(num_classes=3)\n",
    "\n",
    "dummy_eeg = torch.randn(8, 5, 6, 32, 32) # (batch x bands x frames x height x width)\n",
    "\n",
    "pred = model(dummy_eeg) # (8, 3)"
   ]
  },
  {
   "cell_type": "code",
   "execution_count": 6,
   "id": "83de13c5-791c-4db7-aba4-6d29ce88584e",
   "metadata": {},
   "outputs": [],
   "source": [
    "assert pred.shape == (8, 3)"
   ]
  }
 ],
 "metadata": {
  "kernelspec": {
   "display_name": "Python 3",
   "language": "python",
   "name": "python3"
  },
  "language_info": {
   "codemirror_mode": {
    "name": "ipython",
    "version": 3
   },
   "file_extension": ".py",
   "mimetype": "text/x-python",
   "name": "python",
   "nbconvert_exporter": "python",
   "pygments_lexer": "ipython3",
   "version": "3.9.4"
  }
 },
 "nbformat": 4,
 "nbformat_minor": 5
}
